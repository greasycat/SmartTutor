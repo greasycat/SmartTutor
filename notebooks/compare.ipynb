{
 "cells": [
  {
   "cell_type": "code",
   "execution_count": 2,
   "metadata": {},
   "outputs": [
    {
     "name": "stdout",
     "output_type": "stream",
     "text": [
      "Using device: cuda\n"
     ]
    },
    {
     "name": "stderr",
     "output_type": "stream",
     "text": [
      "C:\\Users\\83494\\AppData\\Local\\Temp\\ipykernel_36428\\1080932920.py:28: MatplotlibDeprecationWarning: The seaborn styles shipped by Matplotlib are deprecated since 3.6, as they no longer correspond to the styles shipped by seaborn. However, they will remain available as 'seaborn-v0_8-<style>'. Alternatively, directly use the seaborn API instead.\n",
      "  plt.style.use('seaborn')\n"
     ]
    }
   ],
   "source": [
    "import os\n",
    "import sys\n",
    "sys.path.append('..')\n",
    "\n",
    "import pandas as pd\n",
    "import numpy as np\n",
    "from sklearn.model_selection import train_test_split\n",
    "from sklearn.metrics.pairwise import cosine_similarity\n",
    "from sklearn.cluster import KMeans\n",
    "from sklearn.metrics import silhouette_score\n",
    "import hdbscan\n",
    "import umap\n",
    "import matplotlib.pyplot as plt\n",
    "import seaborn as sns\n",
    "import time\n",
    "from tqdm import tqdm\n",
    "from sentence_transformers import SentenceTransformer\n",
    "from transformers import AutoTokenizer, AutoModel\n",
    "import torch\n",
    "from openai import OpenAI\n",
    "from dotenv import load_dotenv\n",
    "\n",
    "# Set random seed for reproducibility\n",
    "load_dotenv()\n",
    "np.random.seed(42)\n",
    "\n",
    "# Set matplotlib style\n",
    "plt.style.use('seaborn')\n",
    "sns.set_palette('husl')\n",
    "\n",
    "# Set display options\n",
    "pd.set_option('display.max_columns', None)\n",
    "pd.set_option('display.max_rows', 100)\n",
    "\n",
    "# Initialize OpenAI client\n",
    "client = OpenAI(api_key=os.getenv('OPENAI_API_KEY'))\n",
    "\n",
    "device = torch.device('cuda' if torch.cuda.is_available() else 'cpu')\n",
    "print(f\"Using device: {device}\")\n",
    "torch.set_default_device(device)\n"
   ]
  },
  {
   "cell_type": "code",
   "execution_count": 3,
   "metadata": {},
   "outputs": [],
   "source": [
    "# Define embedding models\n",
    "class BERTEmbedder:\n",
    "    def __init__(self):\n",
    "        self.tokenizer = AutoTokenizer.from_pretrained('bert-base-uncased')\n",
    "        self.model = AutoModel.from_pretrained('bert-base-uncased')\n",
    "        self.device = torch.device('cuda' if torch.cuda.is_available() else 'cpu')\n",
    "        self.model = self.model.to(self.device)\n",
    "        \n",
    "    def get_embeddings(self, texts):\n",
    "        embeddings = []\n",
    "        for text in tqdm(texts, desc=\"BERT Embedding\"):\n",
    "            inputs = self.tokenizer(text, return_tensors=\"pt\", padding=True, truncation=True, max_length=512)\n",
    "            inputs = {k: v.to(self.device) for k, v in inputs.items()}\n",
    "            with torch.no_grad():\n",
    "                outputs = self.model(**inputs)\n",
    "            embedding = outputs.last_hidden_state.mean(dim=1).squeeze().cpu().numpy()\n",
    "            embeddings.append(embedding)\n",
    "        return np.array(embeddings)\n",
    "\n",
    "class BGEEmbedder:\n",
    "    def __init__(self):\n",
    "        self.model = SentenceTransformer('BAAI/bge-large-en-v1.5')\n",
    "        \n",
    "    def get_embeddings(self, texts):\n",
    "        return self.model.encode(texts)\n",
    "\n",
    "class OpenAIEmbedder:\n",
    "    def __init__(self, client):\n",
    "        self.client = client\n",
    "        \n",
    "    def get_embeddings(self, texts):\n",
    "        embeddings = []\n",
    "        for text in tqdm(texts, desc=\"OpenAI Embedding\"):\n",
    "            response = self.client.embeddings.create(\n",
    "                model=\"text-embedding-3-small\",\n",
    "                input=text\n",
    "            )\n",
    "            embeddings.append(response.data[0].embedding)\n",
    "        return np.array(embeddings)\n",
    "\n",
    "class E5Embedder:\n",
    "    def __init__(self):\n",
    "        self.model = SentenceTransformer('intfloat/e5-large-v2')\n",
    "        \n",
    "    def get_embeddings(self, texts):\n",
    "        # Add query prefix for E5 model\n",
    "        texts = [f\"query: {text}\" for text in texts]\n",
    "        return self.model.encode(texts)"
   ]
  },
  {
   "cell_type": "code",
   "execution_count": 4,
   "metadata": {},
   "outputs": [
    {
     "name": "stdout",
     "output_type": "stream",
     "text": [
      "Dataset size: (320, 8)\n",
      "\n",
      "Data preview:\n",
      "Training set size: (256, 9)\n",
      "Test set size: (64, 9)\n"
     ]
    }
   ],
   "source": [
    "#  Data preparation and preprocessing\n",
    "# Read data\n",
    "df = pd.read_csv('../data/papers.csv')\n",
    "print(f\"Dataset size: {df.shape}\")\n",
    "print(\"\\nData preview:\")\n",
    "df.head()\n",
    "\n",
    "# Data cleaning and preprocessing\n",
    "def preprocess_text(text):\n",
    "    if pd.isna(text):\n",
    "        return \"\"\n",
    "    # Remove special characters\n",
    "    text = text.replace('\\n', ' ').replace('\\r', ' ')\n",
    "    # Remove extra spaces\n",
    "    text = ' '.join(text.split())\n",
    "    return text\n",
    "\n",
    "# Apply preprocessing to 'summary' column instead of 'abstract'\n",
    "df['processed_text'] = df['summary'].apply(preprocess_text)\n",
    "\n",
    "# Split into train and test sets\n",
    "train_df, test_df = train_test_split(df, test_size=0.2, random_state=42)\n",
    "print(f\"Training set size: {train_df.shape}\")\n",
    "print(f\"Test set size: {test_df.shape}\")"
   ]
  },
  {
   "cell_type": "code",
   "execution_count": 5,
   "metadata": {},
   "outputs": [
    {
     "name": "stdout",
     "output_type": "stream",
     "text": [
      "\n",
      "Evaluating model: BERT\n"
     ]
    },
    {
     "name": "stderr",
     "output_type": "stream",
     "text": [
      "BERT Embedding:   0%|          | 0/256 [00:00<?, ?it/s]c:\\Users\\83494\\anaconda3\\envs\\diff\\lib\\site-packages\\torch\\utils\\_device.py:77: UserWarning: 1Torch was not compiled with flash attention. (Triggered internally at C:\\actions-runner\\_work\\pytorch\\pytorch\\builder\\windows\\pytorch\\aten\\src\\ATen\\native\\transformers\\cuda\\sdp_utils.cpp:263.)\n",
      "  return func(*args, **kwargs)\n",
      "BERT Embedding: 100%|██████████| 256/256 [00:04<00:00, 61.36it/s]\n",
      "c:\\Users\\83494\\anaconda3\\envs\\diff\\lib\\site-packages\\sklearn\\cluster\\_kmeans.py:870: FutureWarning: The default value of `n_init` will change from 10 to 'auto' in 1.4. Set the value of `n_init` explicitly to suppress the warning\n",
      "  warnings.warn(\n",
      "c:\\Users\\83494\\anaconda3\\envs\\diff\\lib\\site-packages\\umap\\umap_.py:1952: UserWarning: n_jobs value 1 overridden to 1 by setting random_state. Use no seed for parallelism.\n",
      "  warn(\n"
     ]
    },
    {
     "name": "stdout",
     "output_type": "stream",
     "text": [
      "Computation time: 4.18 seconds\n",
      "Silhouette score: 0.0337\n",
      "\n",
      "Evaluating model: BGE\n"
     ]
    },
    {
     "name": "stderr",
     "output_type": "stream",
     "text": [
      "c:\\Users\\83494\\anaconda3\\envs\\diff\\lib\\site-packages\\sklearn\\cluster\\_kmeans.py:870: FutureWarning: The default value of `n_init` will change from 10 to 'auto' in 1.4. Set the value of `n_init` explicitly to suppress the warning\n",
      "  warnings.warn(\n",
      "c:\\Users\\83494\\anaconda3\\envs\\diff\\lib\\site-packages\\umap\\umap_.py:1952: UserWarning: n_jobs value 1 overridden to 1 by setting random_state. Use no seed for parallelism.\n",
      "  warn(\n"
     ]
    },
    {
     "name": "stdout",
     "output_type": "stream",
     "text": [
      "Computation time: 5.95 seconds\n",
      "Silhouette score: 0.0603\n",
      "\n",
      "Evaluating model: OpenAI\n"
     ]
    },
    {
     "name": "stderr",
     "output_type": "stream",
     "text": [
      "OpenAI Embedding: 100%|██████████| 256/256 [01:21<00:00,  3.13it/s]\n",
      "c:\\Users\\83494\\anaconda3\\envs\\diff\\lib\\site-packages\\sklearn\\cluster\\_kmeans.py:870: FutureWarning: The default value of `n_init` will change from 10 to 'auto' in 1.4. Set the value of `n_init` explicitly to suppress the warning\n",
      "  warnings.warn(\n",
      "c:\\Users\\83494\\anaconda3\\envs\\diff\\lib\\site-packages\\umap\\umap_.py:1952: UserWarning: n_jobs value 1 overridden to 1 by setting random_state. Use no seed for parallelism.\n",
      "  warn(\n"
     ]
    },
    {
     "name": "stdout",
     "output_type": "stream",
     "text": [
      "Computation time: 81.79 seconds\n",
      "Silhouette score: 0.0445\n",
      "\n",
      "Evaluating model: E5\n"
     ]
    },
    {
     "name": "stderr",
     "output_type": "stream",
     "text": [
      "c:\\Users\\83494\\anaconda3\\envs\\diff\\lib\\site-packages\\sklearn\\cluster\\_kmeans.py:870: FutureWarning: The default value of `n_init` will change from 10 to 'auto' in 1.4. Set the value of `n_init` explicitly to suppress the warning\n",
      "  warnings.warn(\n",
      "c:\\Users\\83494\\anaconda3\\envs\\diff\\lib\\site-packages\\umap\\umap_.py:1952: UserWarning: n_jobs value 1 overridden to 1 by setting random_state. Use no seed for parallelism.\n",
      "  warn(\n"
     ]
    },
    {
     "name": "stdout",
     "output_type": "stream",
     "text": [
      "Computation time: 5.84 seconds\n",
      "Silhouette score: 0.0298\n"
     ]
    }
   ],
   "source": [
    "# Model evaluation\n",
    "# Initialize embedders\n",
    "embedders = {\n",
    "    'BERT': BERTEmbedder(),\n",
    "    'BGE': BGEEmbedder(),\n",
    "    'OpenAI': OpenAIEmbedder(client),\n",
    "    'E5': E5Embedder()\n",
    "}\n",
    "\n",
    "# Store evaluation results\n",
    "results = {}\n",
    "\n",
    "for model_name, embedder in embedders.items():\n",
    "    print(f\"\\nEvaluating model: {model_name}\")\n",
    "    \n",
    "    # Record start time\n",
    "    start_time = time.time()\n",
    "    \n",
    "    # Get embeddings\n",
    "    embeddings = embedder.get_embeddings(train_df['processed_text'].tolist())\n",
    "    \n",
    "    # Calculate time\n",
    "    computation_time = time.time() - start_time\n",
    "    \n",
    "    # Calculate similarity matrix\n",
    "    similarity_matrix = cosine_similarity(embeddings)\n",
    "    \n",
    "    # Perform clustering analysis\n",
    "    kmeans = KMeans(n_clusters=5, random_state=42)\n",
    "    kmeans_labels = kmeans.fit_predict(embeddings)\n",
    "    \n",
    "    hdbscan_clusterer = hdbscan.HDBSCAN(min_cluster_size=5)\n",
    "    hdbscan_labels = hdbscan_clusterer.fit_predict(embeddings)\n",
    "    \n",
    "    # Calculate silhouette score\n",
    "    silhouette_kmeans = silhouette_score(embeddings, kmeans_labels)\n",
    "    \n",
    "    # Use UMAP for dimensionality reduction\n",
    "    reducer = umap.UMAP(random_state=42)\n",
    "    embedding_2d = reducer.fit_transform(embeddings)\n",
    "    \n",
    "    # Store results\n",
    "    results[model_name] = {\n",
    "        'embeddings': embeddings,\n",
    "        'computation_time': computation_time,\n",
    "        'similarity_matrix': similarity_matrix,\n",
    "        'kmeans_labels': kmeans_labels,\n",
    "        'hdbscan_labels': hdbscan_labels,\n",
    "        'silhouette_score': silhouette_kmeans,\n",
    "        'embedding_2d': embedding_2d\n",
    "    }\n",
    "    \n",
    "    print(f\"Computation time: {computation_time:.2f} seconds\")\n",
    "    print(f\"Silhouette score: {silhouette_kmeans:.4f}\")"
   ]
  },
  {
   "cell_type": "code",
   "execution_count": 6,
   "metadata": {},
   "outputs": [
    {
     "data": {
      "image/png": "[encoded data removed]",
      "text/plain": [
       "<Figure size 1500x500 with 2 Axes>"
      ]
     },
     "metadata": {},
     "output_type": "display_data"
    }
   ],
   "source": [
    "# Performance comparison visualization\n",
    "def plot_performance_comparison(results):\n",
    "    # Prepare data\n",
    "    models = list(results.keys())\n",
    "    times = [results[model]['computation_time'] for model in models]\n",
    "    scores = [results[model]['silhouette_score'] for model in models]\n",
    "    \n",
    "    # Create subplots\n",
    "    fig, (ax1, ax2) = plt.subplots(1, 2, figsize=(15, 5))\n",
    "    \n",
    "    # Computation time comparison\n",
    "    ax1.bar(models, times)\n",
    "    ax1.set_title('Computation Time Comparison')\n",
    "    ax1.set_ylabel('Time (seconds)')\n",
    "    ax1.tick_params(axis='x', rotation=45)\n",
    "    \n",
    "    # Silhouette score comparison\n",
    "    ax2.bar(models, scores)\n",
    "    ax2.set_title('Clustering Quality Comparison (Silhouette Score)')\n",
    "    ax2.set_ylabel('Silhouette Score')\n",
    "    ax2.tick_params(axis='x', rotation=45)\n",
    "    \n",
    "    plt.tight_layout()\n",
    "    plt.show()\n",
    "\n",
    "# Plot performance comparison\n",
    "plot_performance_comparison(results)"
   ]
  },
  {
   "cell_type": "code",
   "execution_count": 7,
   "metadata": {},
   "outputs": [
    {
     "data": {
      "image/png": "[encoded data removed]",
      "text/plain": [
       "<Figure size 2000x500 with 4 Axes>"
      ]
     },
     "metadata": {},
     "output_type": "display_data"
    }
   ],
   "source": [
    "#  Embedding visualization\n",
    "def plot_embeddings(results):\n",
    "    n_models = len(results)\n",
    "    fig, axes = plt.subplots(1, n_models, figsize=(5*n_models, 5))\n",
    "    \n",
    "    for idx, (model_name, result) in enumerate(results.items()):\n",
    "        embedding_2d = result['embedding_2d']\n",
    "        labels = result['kmeans_labels']\n",
    "        \n",
    "        scatter = axes[idx].scatter(\n",
    "            embedding_2d[:, 0],\n",
    "            embedding_2d[:, 1],\n",
    "            c=labels,\n",
    "            cmap='viridis',\n",
    "            alpha=0.5\n",
    "        )\n",
    "        axes[idx].set_title(model_name)\n",
    "        \n",
    "    plt.tight_layout()\n",
    "    plt.show()\n",
    "\n",
    "# Plot embedding visualization\n",
    "plot_embeddings(results)"
   ]
  },
  {
   "cell_type": "code",
   "execution_count": 8,
   "metadata": {},
   "outputs": [
    {
     "name": "stdout",
     "output_type": "stream",
     "text": [
      "\n",
      "Detailed Analysis Results:\n"
     ]
    },
    {
     "data": {
      "text/html": [
       "<div>\n",
       "<style scoped>\n",
       "    .dataframe tbody tr th:only-of-type {\n",
       "        vertical-align: middle;\n",
       "    }\n",
       "\n",
       "    .dataframe tbody tr th {\n",
       "        vertical-align: top;\n",
       "    }\n",
       "\n",
       "    .dataframe thead th {\n",
       "        text-align: right;\n",
       "    }\n",
       "</style>\n",
       "<table border=\"1\" class=\"dataframe\">\n",
       "  <thead>\n",
       "    <tr style=\"text-align: right;\">\n",
       "      <th></th>\n",
       "      <th>average_norm</th>\n",
       "      <th>norm_std</th>\n",
       "      <th>variance_mean</th>\n",
       "      <th>sparsity</th>\n",
       "    </tr>\n",
       "  </thead>\n",
       "  <tbody>\n",
       "    <tr>\n",
       "      <th>BERT</th>\n",
       "      <td>8.421299</td>\n",
       "      <td>2.993209e-01</td>\n",
       "      <td>0.009518</td>\n",
       "      <td>0.0</td>\n",
       "    </tr>\n",
       "    <tr>\n",
       "      <th>BGE</th>\n",
       "      <td>1.000000</td>\n",
       "      <td>4.148308e-08</td>\n",
       "      <td>0.000323</td>\n",
       "      <td>0.0</td>\n",
       "    </tr>\n",
       "    <tr>\n",
       "      <th>OpenAI</th>\n",
       "      <td>1.000000</td>\n",
       "      <td>3.205551e-08</td>\n",
       "      <td>0.000396</td>\n",
       "      <td>0.0</td>\n",
       "    </tr>\n",
       "    <tr>\n",
       "      <th>E5</th>\n",
       "      <td>1.000000</td>\n",
       "      <td>3.311110e-08</td>\n",
       "      <td>0.000161</td>\n",
       "      <td>0.0</td>\n",
       "    </tr>\n",
       "  </tbody>\n",
       "</table>\n",
       "</div>"
      ],
      "text/plain": [
       "        average_norm      norm_std  variance_mean  sparsity\n",
       "BERT        8.421299  2.993209e-01       0.009518       0.0\n",
       "BGE         1.000000  4.148308e-08       0.000323       0.0\n",
       "OpenAI      1.000000  3.205551e-08       0.000396       0.0\n",
       "E5          1.000000  3.311110e-08       0.000161       0.0"
      ]
     },
     "execution_count": 8,
     "metadata": {},
     "output_type": "execute_result"
    }
   ],
   "source": [
    "# Seventh cell: Detailed analysis\n",
    "def analyze_embeddings(results):\n",
    "    analysis = {}\n",
    "    \n",
    "    for model_name, result in results.items():\n",
    "        embeddings = result['embeddings']\n",
    "        \n",
    "        # Calculate vector norms\n",
    "        norms = np.linalg.norm(embeddings, axis=1)\n",
    "        \n",
    "        # Calculate variance\n",
    "        variance = np.var(embeddings, axis=0)\n",
    "        \n",
    "        # Calculate sparsity\n",
    "        sparsity = np.mean(embeddings == 0)\n",
    "        \n",
    "        analysis[model_name] = {\n",
    "            'average_norm': np.mean(norms),\n",
    "            'norm_std': np.std(norms),\n",
    "            'variance_mean': np.mean(variance),\n",
    "            'sparsity': sparsity\n",
    "        }\n",
    "    \n",
    "    # Convert to DataFrame for better visualization\n",
    "    analysis_df = pd.DataFrame(analysis).T\n",
    "    return analysis_df\n",
    "\n",
    "# Perform detailed analysis\n",
    "analysis_results = analyze_embeddings(results)\n",
    "print(\"\\nDetailed Analysis Results:\")\n",
    "analysis_results"
   ]
  },
  {
   "cell_type": "code",
   "execution_count": 10,
   "metadata": {},
   "outputs": [
    {
     "name": "stderr",
     "output_type": "stream",
     "text": [
      "c:\\Users\\83494\\anaconda3\\envs\\diff\\lib\\site-packages\\umap\\umap_.py:1952: UserWarning:\n",
      "\n",
      "n_jobs value 1 overridden to 1 by setting random_state. Use no seed for parallelism.\n",
      "\n"
     ]
    },
    {
     "data": {
      "application/vnd.plotly.v1+json": {
       "config": {
        "plotlyServerURL": "https://plot.ly"
       },
       "data": [
        {
         "marker": {
          "opacity": 0.7,
          "size": 5
         },
         "mode": "markers",
         "name": "dl_rnn",
         "scene": "scene",
         "showlegend": true,
         "type": "scatter3d",
         "x": {
          "bdata": "60EkQT7AEkHC3QJBcUgRQXY1CkGs4BpBnhkBQfb1E0GfCQNBf9sIQVKKC0EfHAhBsE8DQVrLAkE2hRFBdfoeQV63DkFl9P5A1okMQan8D0FBvhBBGyoFQRYPCkHZbwpBPvQSQSy8B0GC4AZBf94JQZCHBEE=",
          "dtype": "f4"
         },
         "y": {
          "bdata": "tudNQYXRPkFrN1NBuGkzQRZ7OUGf2DxBvWNMQbasRUE27E9BzOQ4QX99QkEwt1dBhT9mQTX9SkHDPkBBk09dQSzbQUHMUlNBLrk3QQF7OUEOvD9B9updQVrtOEHP0j5BYug7Qeu6SEGpqDxBmLo/QVn0UkE=",
          "dtype": "f4"
         },
         "z": {
          "bdata": "h8/QQGHo5UBc29BAkyHhQEg/z0CNT+dAv/LFQP9e6kB5wMFAt+zMQDUn5EBfdqdA94XKQCgNy0C6WedA5w/JQKc9ukAFE5pAFN/fQP1Y7kDent5A92G0QFGzzkDI/NlAC2DZQENxxkAuH8pACLPKQL1lq0A=",
          "dtype": "f4"
         }
        },
        {
         "marker": {
          "opacity": 0.7,
          "size": 5
         },
         "mode": "markers",
         "name": "dl_nlp",
         "scene": "scene",
         "showlegend": true,
         "type": "scatter3d",
         "x": {
          "bdata": "DLAEQTQE/kD2LhZB2Y0HQYPRB0Ew8/9AmgQYQWHzBUFBYRhBOOcNQZ0zB0HbMxNBcDn1QGG3+0CvZBdBgNwRQYUNDEGQqgVBYanzQAf6BkEV2vBA4agOQW9+FUGbmO9AGawWQcF7EUEmkPJAIXH+QP2bGEFRvwlB9N0IQdLGEkETSg5BS1sRQW1gGUFbXR9BnWT6QM9SDEEpZB5B4y4TQZATFUEMHRdBvDDxQEmICUHq2xRB",
          "dtype": "f4"
         },
         "y": {
          "bdata": "/RhtQd2jbEHQpW1BMtdQQT8+U0FzOmFBxVluQY9yYkFCiWhB+kBsQc2dV0HJOm9BIH9lQaWIYkEAvFJBOM1jQT+yTUEAaFhBypJlQZFgSUGDIWlBVytjQSw5X0HtsmZB4JBrQdXKXUH/AGVBKMRqQZ8AaUHYBm1Bhr5cQXvabUFxFmlBRrBQQdcPW0HlLFtBshtnQa2zUUG+PWVBfbBuQTYnWUGKlGlB4zpeQdbuaUG2oW1B",
          "dtype": "f4"
         },
         "z": {
          "bdata": "cgnDQBBzv0D1Ca9ATPiiQCeUt0AUqLRARJW2QLS+uECqAbZA3uK/QCrGo0DV47ZAP0GjQEWfj0AASrRAq73LQNhQs0CLHrBAecvCQIaxsEAgUbVAjFzJQCJ/ukDzf7hAnkG7QELctEAdN51A+HfBQBh7sEBng8ZAG3e2QBWhsUBdhLlACVm/QCPGsUBngcpA3+urQFZcrUBs9LFAl5C8QFCprEBChrJAYnnAQNuXpEBXKbRA",
          "dtype": "f4"
         }
        },
        {
         "marker": {
          "opacity": 0.7,
          "size": 5
         },
         "mode": "markers",
         "name": "ml_general",
         "scene": "scene",
         "showlegend": true,
         "type": "scatter3d",
         "x": {
          "bdata": "GKT+QHUsHEGjuyBBf8ogQdpsI0GJ2OlAmskeQRgwIkGMNR1BtRz6QDH4G0FGO/RASsgaQWcDFEHbGBdBQS3uQOUPH0F3Ph9BhmUUQQGMHkHlXRpB4cEWQcNFIUEzABlBRl0hQWTJHUE1YBlBiKMbQQcLHUH82ABBDCwXQXnHH0GdcyJB6/YUQcA4HkEboRFBA0oYQdVrDkEUFx5BZ50ZQZ1THkHghyRBvBkcQXONE0E8LBBBaLEPQeazGUG2sRJBy8sbQRvzIkHsKh9BpYXzQElpF0HwiBJBrEIQQbU2GUH3Px5Bh7MUQQyrCUHJyB9BdJr0QNvfCEG1Ax5BhPwRQZfJ9kA66x9BwZ/vQBQLHEEklB1Bm68ZQfCXGEFgDBNB",
          "dtype": "f4"
         },
         "y": {
          "bdata": "pps/QT/RNUEyoipBAsE9QbKNQkF201hB44Q+QQceS0Ho5zNBfOVLQVPaSUF+pkBBaxI3QWfnTUECMDNB8i9YQd5mUkHMwjpB9I9TQfBALEHz+SlB+OxEQdpUNkHGyCdBjBhHQXLIQ0GpKCtBucg7QZPUPEEnSEZBniwoQU8VZUEJIUZB/NkpQexaU0FF8iZBdb0vQW6iKEGs7CtBBsIxQSqKOkFE2EhB4VswQeTjKEHq3DJBowArQUWGP0H0kjRBXxApQcQCRkHgjkFBxW5RQb4+OEFxiUpBXEg9QSIuVEEaLUFB3gUuQReUY0GrETBBEAFAQcr3SkEXtz5B6U8sQXJvTEEHEE9Btx9nQYEkM0EoYEFBKLhbQRBZR0HxwCtB",
          "dtype": "f4"
         },
         "z": {
          "bdata": "4lLtQCg8/UAt1/FA7NnMQDoB1kCkg91An/XNQCaGzkCBQvxAj5axQBjkukBvO9ZA+TX5QHOw5UD9QfZAesHjQEZn20DUjvNAT1zaQA2t90B34vxACsLZQKU85kDHuv1ACifLQAuzwkAdxvxAuTn1QE8V50B8RuhA3kz7QBT7uUAhnNVA4/4AQWpb2kDnAfpAuLL0QGGa9kDrTPJA2jXuQKPn90DHZtBASS3xQHhm/UApdeNAj733QFwC8kBB/u9Ae1D6QFqF3kAeJdhAjuLqQNqZ0kBld+NARWbsQH7myEC4SspAuq71QHxl1kB6f+5AlqfTQEtmrEAgHN5AgzfxQGEm40BLkt1ALtfHQIjr5kC3Uc9AIhC0QP1UwEDP+fJA",
          "dtype": "f4"
         }
        },
        {
         "marker": {
          "opacity": 0.7,
          "size": 5
         },
         "mode": "markers",
         "name": "cv_generative",
         "scene": "scene",
         "showlegend": true,
         "type": "scatter3d",
         "x": {
          "bdata": "QN0PQXw+4kBqD/lAwA8UQc9+60BgPe5AL1/3QJRwB0E9JwtB09v7QNeeFUH8FhFBWN8NQS6nCkFkifBAyuv/QF2G3EDsFOhA9XkMQWXF4kC1avVAGWTcQPFX80BadtlA46/kQHS84kDFawZBjhUBQbg59EB+1ftA6d34QA==",
          "dtype": "f4"
         },
         "y": {
          "bdata": "SltiQaCmXEEBh19B/W1eQd0GZEGi4WBB3IlTQThGYkHvPGBBkFJJQZS1MUG4GmFBa8VmQdGhYkE/mFZBi1VnQarBWkGdTltBqkdeQSDUSkGxD0tBYnFaQcMBXEHREVBBnrlaQTE7W0EsHl9BHd1IQUVSU0EuqV5BwZpIQQ==",
          "dtype": "f4"
         },
         "z": {
          "bdata": "QjadQL4qp0DrB+dAufieQIdamEB7tZhAZNntQIrrq0AuraVAbg/cQBWN6UDeop1AlZK1QGYAw0CDprNAai6cQDHMt0BRibVAEy2eQDt5zkChDd5A7Ha7QD0yrkCFEchA68atQI49v0DqEKxArwTeQNRKv0BJbuNAS7PYQA==",
          "dtype": "f4"
         }
        },
        {
         "marker": {
          "opacity": 0.7,
          "size": 5
         },
         "mode": "markers",
         "name": "cv_pattern",
         "scene": "scene",
         "showlegend": true,
         "type": "scatter3d",
         "x": {
          "bdata": "LQ31QH2A30ANWPpAPC7pQDh310CxUfpAHnfrQKcDDEGePwhB7KnrQAjK/0Cv9g1B8WbxQB4W6EDdHeVAr/YaQSZX9UAPgt5A7MYAQToZ+UBuWwVBxYH4QEDgA0H9G/FAUAv5QCn950AwGOVAlvngQGwJ50CFWNtAqHAMQXP9HUHyFe5A7q3YQGd8/0D64vFAaXLqQIVJ6UDBQNpACv3xQO6YDEGAzgBB7UziQIMu+UA=",
          "dtype": "f4"
         },
         "y": {
          "bdata": "cClfQeOSXUHS4ldBZbdPQbjeTkF+dFVBAhJXQWnjR0G0AGpBNMdWQZ+GSkH7EVZBDGpSQV/oY0ESyFpB/xdgQUfQXEFemFVBHdJNQSWiZEGg/V9BGqhQQWO2V0GNXltB2T9aQTEgWEHT6U5BA0NJQYrKUkHPflBBsC5RQU0hXUGFH09Bc+pNQaejREGubFVBdrBbQYuqX0Hk21ZB9pFeQdnrYEHCT1NBTe1XQU5DUEE=",
          "dtype": "f4"
         },
         "z": {
          "bdata": "k1TWQBFb1EBKa+dAKlzXQGmNx0BmiLpAxz/VQKkk20AcY9VAdzbfQIlH5kBhIrJAAJfNQM2TnUA4wdVABzOxQDMY60CIsM9A9LfrQJBqz0CDwtxA/QKxQJTn6EB+KttANSbEQFY8vkD0e9xAVcTUQOpZ3ED/MMxAfejkQNKcyUCtHNlA6A/JQAwDwkBO9cZAgvrOQASK0kBnT8JAAiXTQLFQ0kADebNAVbzHQEBG2EA=",
          "dtype": "f4"
         }
        },
        {
         "marker": {
          "opacity": 0.7,
          "size": 5
         },
         "mode": "markers",
         "name": "audio",
         "scene": "scene",
         "showlegend": true,
         "type": "scatter3d",
         "x": {
          "bdata": "3czzQPx8/kCsmQVBOO7vQL81AEE9qP9A3vLvQFX570BYRvdAtdAEQSGV9EAunQJBeYzrQM4uE0FKGwBBwEP8QBJ79ECr1ARBgRIRQQq2+kCxNwJB",
          "dtype": "f4"
         },
         "y": {
          "bdata": "pB5UQesDR0ErvUtBawJZQTnlVEH5Sl9BqO9YQemCUEFee1VBn7pcQQYxVEHDd15BNkJfQZu9N0GL12BB9KpbQfl9XkG0A2RBdIM8QX9KYUE62F9B",
          "dtype": "f4"
         },
         "z": {
          "bdata": "pzCZQJ5XsED1DsFAAuuWQHv9k0AyV5ZATTORQNLroUAXCZFAzxLAQD71lUApUqNA5NSZQNXxzkBGv5FA0k7rQGBGlEDaGqVAko7FQDCYjkD0z8BA",
          "dtype": "f4"
         }
        },
        {
         "marker": {
          "opacity": 0.7,
          "size": 5
         },
         "mode": "markers",
         "name": "dl_rl",
         "scene": "scene",
         "showlegend": true,
         "type": "scatter3d",
         "x": {
          "bdata": "OzT6QNTAGEGQKQ1BjaEaQXBMGEE5ixlB12oWQcw8H0FidhlB0p8cQT0GDEEuNiFBwEsYQc1fA0E=",
          "dtype": "f4"
         },
         "y": {
          "bdata": "ic5gQRg8ZUHz+0JBm5ZWQXZNSEFPrVBBPIttQSrSZUEaHWVB8GJkQdKmY0HU9klBvNtDQTJxYEE=",
          "dtype": "f4"
         },
         "z": {
          "bdata": "0UPcQEzpp0D318VA0BewQAYP4kAoc7pAjnfAQJuZtUAs77JAkL+yQHbC0EAsHN1ALFndQDYTwEA=",
          "dtype": "f4"
         }
        },
        {
         "marker": {
          "opacity": 0.7,
          "size": 5
         },
         "mode": "markers",
         "name": "dl_rnn",
         "scene": "scene2",
         "showlegend": false,
         "type": "scatter3d",
         "x": {
          "bdata": "nG7mPwDEakA7CL4/sCgjQDqy9D+8AfU/IKvoP/dMREDJcds/shfdP6BfMECoSAJAJiMGQBvRxT+pMwVAGRXSPwDW8D8A9+Q/B5/zP707VkBX3QhA8DPnPzhp3j+OHv4/VKEHQEYpsT+SMIVAJNQFQBL3xT8=",
          "dtype": "f4"
         },
         "y": {
          "bdata": "lMQAQSOjCUE/B/lAUBUDQSsxBEGo8ABBcWX3QF8pCUHedPVAOSr6QM1vBUFqXtdACrcBQblz9kAgMgJBS6jxQBCD4UBDwu5AsHj2QGW8C0GL4P5AfQvqQG4A+UAkPPdACD0EQbRT7kDrkCRBNnsFQYlJ9kA=",
          "dtype": "f4"
         },
         "z": {
          "bdata": "uLjkP4L5CEAeKvI/YkX6P6bv1T90d98/RGkDQHkQAUBhVO0/Y73DP4eBAUC6UCdAI3ffP8tMyz/OtfI/WWbeP7MPBEDcccs/Mzb8P6WbDEAhCt0/KwsQQHQGwT+alfc/FMHmP3rJ6j904qZAThbMP3CY2j8=",
          "dtype": "f4"
         }
        },
        {
         "marker": {
          "opacity": 0.7,
          "size": 5
         },
         "mode": "markers",
         "name": "dl_nlp",
         "scene": "scene2",
         "showlegend": false,
         "type": "scatter3d",
         "x": {
          "bdata": "0SEUQL/FGkB2/Q5AIdb3P1XmzD++MPk/8lkoQDkW8T8NNBpAl8IuQDfl9D8EvBhAHkEDQPfJwT4REQ5AMtMsQBOJ+z+yEuU/FUMZQDXxBEBeeBdAUWwPQPm2DEBuYg5AvIL0P+5wGUCmIeo/CfgbQIxJHEDzCxRA7yISQMnsG0BUURdANbW7P7MB+D83TxFAaOkCQHkX6z9OPBhA3A4cQOywAUA13BtAY7MLQO45c0BbEhtA",
          "dtype": "f4"
         },
         "y": {
          "bdata": "UsqyQEBtt0AuTahAQkreQKBC8kD7wbtAFiuzQARzvED59KNAZTysQNPT3kBPabJAWKOzQNcz6kAy/ZVA0YyqQG/fsUCe5NtATA7DQB5T10AW97BA66WfQIDRxECwFbtAD1G9QH0nqUBkJdRAZtS5QEj2lkDOgrZAfOrGQJodvkAcPbBAwinfQI3qq0B3XdlAtVewQCtM6UD5BJ5Arwa0QJJdqEDDoppAjsG4QNdW9kBnerFA",
          "dtype": "f4"
         },
         "z": {
          "bdata": "64+AQN2tcEAOZI1A8mn+P1ef/D946FtA1vduQD3lVEDD73VAgqaCQHtDAUCpPlpAMYeJQPXASUDobYVAqVh8QIU8eEDJugxANfxoQKvLJUBnan9AnhCCQN3KWUBWeH5AYsZTQBGgZ0C5lSlAJltrQEMMjEBayVxAOfhHQK9+aEB7R4FAYwtaQMvwekD05i9AHfh+QADQ/D/Z0I5A0xZmQNEidkAH945AYAt+QDJDvkAvEWVA",
          "dtype": "f4"
         }
        },
        {
         "marker": {
          "opacity": 0.7,
          "size": 5
         },
         "mode": "markers",
         "name": "ml_general",
         "scene": "scene2",
         "showlegend": false,
         "type": "scatter3d",
         "x": {
          "bdata": "KNSLQEIvmEBXZ5hAG4SQQGqsi0CGYpNA1AmhQNDm3T9r54dADv2UQKq/nUA0AYBAN2CdQDmlmEBHpo9AwwmfQF97mUBVe45AxEl9QEoGoEAIS6VAVaBxQDYPjUBCXpFAwHyLQEVzg0BKjIhADKqfQDDQoUBSnl1AI8J3QJK2MUC784VAnnKEQCYlpUDyzKFA7dCIQC07bkDyupFAFR90QOmjkEAqsaBA5eVuQN8joUAQkWBAwyiFQP7GlkDc26FAWJqeQPrAm0CF8oJAWoKNQJ6AgUDL+5NALzZqQII2jECwIYxAEKKIQPX4QkCtY51AM0mBQNKJ9j+CroZA+ctLQKpcaUAdDppA1pIjQDEwmkD9ZY1AajqKQMQHmkBps3xA",
          "dtype": "f4"
         },
         "y": {
          "bdata": "/d4EQdIdGUEUywhB4YAcQdYEF0FohBxB23EHQZwPx0AKBQ9BHv4ZQYb6CEGvkvxAbTEHQcmtBkEGkQZBDxEGQeftD0Hk7wxBW3ANQcbwBUFywQtBOCwZQdE0B0HAywhBl7UbQRURDkGRGAtBIjgLQVGzAkHNIRFBeb4TQQWQmEAAfxpB7ecJQUcXBkFgrghBSHwCQcmrDUFlbRRB1MYOQY1ACkGimg9BKiUQQb/JDEFvxBFBuWkBQeXiCkGrigFBByMLQbc1B0H9zRdBlSoHQcciF0EWZgVBcxoMQaAlFEED4R1BzcAHQX7MwkDFGgRBnib/QMGe2UBW+hdByOAKQbPXEUF65BBB+XrHQL52A0GUqhpBWQobQRhnE0GVdxhB",
          "dtype": "f4"
         },
         "z": {
          "bdata": "LW11QHVKgkDEZ0JAC1tZQO2JQUDDAnRAcIkMQNulT0DgZEZASAyMQJuWEUB4C3dA/WpJQKeKC0AdO1VAj78eQKyeOUBHWUNA3tsKQPN9YkC1GCdA7N1KQJFYFkC6DCdAY+phQKe/GECVjBtA/1xFQNSldkDl7iBA/vQ4QLUAjkATOmlAh3cpQOGqW0BzXRdAgQZgQARdE0A5ZD1A3g4yQOlKNEANVk9AZcstQGToPUDeak1Ad6J/QN05UUCgFXNAXBoqQPNHDkCwvU5AL5NlQDnDUEADO4RAa6sMQEfcKkD85GlADOkuQOiUbkA69G5AEURwQK5JDkDI1W9Ag9wUQE3uMkDZDTlAP05uQCgXekAwAlFAj6KLQCK/SkD0BVFA",
          "dtype": "f4"
         }
        },
        {
         "marker": {
          "opacity": 0.7,
          "size": 5
         },
         "mode": "markers",
         "name": "cv_generative",
         "scene": "scene2",
         "showlegend": false,
         "type": "scatter3d",
         "x": {
          "bdata": "aN6ZQGhAkUCYM4NAzPCPQCU1cECPvXtAqfqFQIazgkDYL3VAtF+DQL7GokCJ/ZtAYMOYQPbfgUAfh5hAO5V3QMa6lEBMZ5RAFVSVQFtynkDZIYdA/EmfQCQFgUDcG59ADnmSQCMKgEB8U5ZA8WGAQAZVpkDVfBNAiL+VQA==",
          "dtype": "f4"
         },
         "y": {
          "bdata": "S7z2QHsy+ECPZBhBrFMCQc8C+kDnE/1A8dgZQfATCEHLK/9AsKMYQe7QAUHDY/pAq0H3QOe8DEGCQv9AdycDQQDe90CXCAJBDrUAQbItAkHTkftAugYBQb6p/0AxHgVB7rv9QOk5FUH2aPhA1swVQbZNJkF4LsZA4jf8QA==",
          "dtype": "f4"
         },
         "z": {
          "bdata": "IjbPQDFiwUBAPbRA3NLLQJJhu0BOkLpAFWqxQKsnuUDeublA/hyxQJ7EuEC4H8xAO/7GQNtNuEASesVAjhW7QO1Tw0B9gshAK23MQKshxUAah7pA0r7BQFuqt0AIcsBARUzJQAAetkCo/cRAl3y1QLL7m0Bpw3xA26fEQA==",
          "dtype": "f4"
         }
        },
        {
         "marker": {
          "opacity": 0.7,
          "size": 5
         },
         "mode": "markers",
         "name": "cv_pattern",
         "scene": "scene2",
         "showlegend": false,
         "type": "scatter3d",
         "x": {
          "bdata": "SJWIQH6hnUBkzIhA6GWXQI9CmUDVVYlA/k2jQLkWk0CGsYBAn5mPQBmge0BsDoZA+++JQCVgf0BNoqBA1gONQPVSgEC+iqZANZiTQIVoj0DTc5lAKgOMQM39lEBKvp9A0OWEQESwi0BpvaBAhAagQDoDn0Bd3ItApuuPQIWhiEBs/aVACE2YQDajhUCNxJZAGK6kQI3zhUDJxZhAxkiOQPb1hEDPj4JArfOZQGvdmkA=",
          "dtype": "f4"
         },
         "y": {
          "bdata": "T8QiQdapJ0HiJCJBaJ77QGZdCEEYYyNBzzwlQY8UA0FI0AxBjv4mQZvLG0EPCPlAWjAkQYtSA0F81ydBxmYWQTBSGUGXWidBtp8WQY4tIEGamBxBq/UgQUH4IUHsSidB5DEjQe1CIkGXPSNB1+MfQS6DKEFN+x1B/48bQXCfIEHuPihBYr4NQaIYJUHfJSRB6BMnQZ7pHkEWSQhBlrghQStaG0Gl4wtBza4kQfPnIUE=",
          "dtype": "f4"
         },
         "z": {
          "bdata": "NueUQKN7o0CSiJ1ACULFQIdswUDw06NAGmSWQIuiiEA1dLFA8QuaQPRLo0DKFrpA3euJQMq2tkA6r6JAq4yaQPxdsED9D5tAw72tQOv5mkDnH6RAkL+PQI50oECfyKVAlVaoQIx+oEDTSJVAAFSfQFa4mECI0phAHgemQDh/kUBjBZxA6r63QG1wp0BCu5JAfUifQKs1pkAAasFAJVeeQEEebUB86rdAGOKmQEfUl0A=",
          "dtype": "f4"
         }
        },
        {
         "marker": {
          "opacity": 0.7,
          "size": 5
         },
         "mode": "markers",
         "name": "audio",
         "scene": "scene2",
         "showlegend": false,
         "type": "scatter3d",
         "x": {
          "bdata": "mseWPj/6sj/tdZU/d21kPnosiD4Jdm4/yjmwPgiFDT+2jOU+8ZdJP58gQj7/nG4/pBfvPuWBjD/zw4k/YoKGP9HR5D6MjoE/IyubPyFtcT/DJoU/",
          "dtype": "f4"
         },
         "y": {
          "bdata": "r9TnQLe77UARPe1A3SziQBQt5EAGdN1AH7DeQMD75UBO7OhAJlDiQEAX5EA93NhAme3fQN2R60BR19dAnMzkQJ5o4EDTNOBAk6ntQOA/2EBnueVA",
          "dtype": "f4"
         },
         "z": {
          "bdata": "hopEQG8Q7j8yoPc/o6Q+QMt3P0DkeR1Aw68zQFITNkAOJzVATCMqQMyeO0BTcSVAAYEyQBN6AkDOnh9AvC89QP7JMED/AyFAhgP1PyOzJ0CZDBdA",
          "dtype": "f4"
         }
        },
        {
         "marker": {
          "opacity": 0.7,
          "size": 5
         },
         "mode": "markers",
         "name": "dl_rl",
         "scene": "scene2",
         "showlegend": false,
         "type": "scatter3d",
         "x": {
          "bdata": "dGojQAskJ0DiXDVA0YcMQF9rKkCTUwZAE2sfQNxIC0AyshFALD4sQNZpMUDenoJAaPouQB5KK0A=",
          "dtype": "f4"
         },
         "y": {
          "bdata": "e02LQOjdi0CHuY9A43eUQGCpjkDF3JlAjNiNQILlnEDo85JA6lSSQHA7nUBcIQZBsj2XQGAki0A=",
          "dtype": "f4"
         },
         "z": {
          "bdata": "3oSZQBkumkBSDp1AeAqIQOc6lUB7kYJA0NSTQHsriEBMMotAsZqYQKaGikAvbwtAEICVQKd8mUA=",
          "dtype": "f4"
         }
        },
        {
         "marker": {
          "opacity": 0.7,
          "size": 5
         },
         "mode": "markers",
         "name": "dl_rnn",
         "scene": "scene3",
         "showlegend": false,
         "type": "scatter3d",
         "x": {
          "bdata": "AOK3QMkY3EDiLaBAxCXNQKO7vUDHfLJAceytQG6p1kCeObVAiBm0QIFMy0C04KdAsE3AQBZBrED6wMJAdU2rQHKBq0DZELBA8vW+QGed30DzTcNA9puZQEpAuEDbdMFAwpbFQGu4lkCZdPRAIaTBQOlDqUA=",
          "dtype": "f4"
         },
         "y": {
          "bdata": "x1MEQavJ+UA8lApBlT8KQR4VC0FEcQtBiWwNQfd5AkEzmQ9Bdb8OQZ3qCEHJn/dAENMNQTZbD0EypAVB/yQPQaECC0FElg1BQlkMQTCx90Az0QpByVIBQVJZD0EvlgtBUikJQUa9CkHMOxdBbFUJQdq9DUE=",
          "dtype": "f4"
         },
         "z": {
          "bdata": "t3LOQK7t1UDDlNVAdbLSQGjOzEBWL89AiuTVQJ1100D9ZdZAlJnOQLYp00DGjAVBt9nQQPT30EDwZdJAicznQLmK8ED1S9xAEv3ZQCJC2kDsr85ANGDsQJlz0EC7+ttAKWDPQEZc4ECuMgJBAdnMQNyQ00A=",
          "dtype": "f4"
         }
        },
        {
         "marker": {
          "opacity": 0.7,
          "size": 5
         },
         "mode": "markers",
         "name": "dl_nlp",
         "scene": "scene3",
         "showlegend": false,
         "type": "scatter3d",
         "x": {
          "bdata": "1HaIQF8NgEC/oJZAfTSgQOWpqUD5tHVAhRiMQGaukkCDFpJAepKkQAqooUBVf4xASjOTQHSomkBdG6pASWyRQAIUk0A35a5Aqn+AQOS0rUC1C4NAXEmuQMIRjEC+33hACxaXQI1xkEDQaJdA85GBQKIeq0DONYhAZkWhQF32hEA4EpBAbDq6QH6oiEAL/8dAIbWEQLf4oUCFWaBA3BaJQIqwiEBDtp5AXNuOQLAGn0A24YlA",
          "dtype": "f4"
         },
         "y": {
          "bdata": "wdW9QMu5w0A1qrhAzfQHQZ+oC0G5sM5AHvXSQGCd30DovL9AA+O3QCaICUHhlsdA/3TLQE2c/UBy0qNAxTq1QDorxkC7IglB6FHSQEsfAEHNbcJAhneiQPbP10De6MZAl+zgQFUgwkATPudARUjCQLSMqUBtJb1AqPLwQFD80kCmpL1AavkKQdM/0kDbYupArenIQLl0C0HbAa9AL+S+QCGTx0CWKq5AwXfBQHdB60BxUMZA",
          "dtype": "f4"
         },
         "z": {
          "bdata": "QpEGQVYOBEE9LANB49j3QBgE2UBlyQRBDNz7QDqJBkGVh/pAwRvzQCN39ECt+/tAGSIHQXzKFEEUofxAclgBQWDgCkFATgFBl98DQZR7CUGAOwVBN5f/QOXf/0A7WwRBO50EQehW+EDzbwJBOocIQQ3e+EArtQdBjAT/QGwyA0GZvQNBAfoFQTtB/0BCygRBF0MHQcTq6UDG6vxAqCIBQS7SAkGJcv9AsPMEQbwgFkGSGQBB",
          "dtype": "f4"
         }
        },
        {
         "marker": {
          "opacity": 0.7,
          "size": 5
         },
         "mode": "markers",
         "name": "ml_general",
         "scene": "scene3",
         "showlegend": false,
         "type": "scatter3d",
         "x": {
          "bdata": "TOjbQNvj9EAg0+1AMMkEQWx3/kA/PAtBHifxQP5c/kARlvdA38D6QCSt9kBecr5AzX3vQBvv10Cm7+hA3NL2QJgfAkHer/tAWaPqQEJa5kD0S+RAn138QBS670CMJeJABtAFQe+Q9EAKjt1Adh/5QOA33kArYPRA4Vr4QFN7p0C/awBBzlHuQDAq2UCqF/NApi7fQJPo50Bw9QJBl8zxQLVs9EAEFv1ADTPrQMIP4kCtmeJA0p3ZQHoD7UDu5eFAcKPmQLUI80BVWABB0XzeQK6T/UBXILZAe1XhQCmP9UC8AwNB1NLrQLw4sEAkpdtAnVXIQGYspEDZl/1AFcHYQCp26EDAZv9AdUyDQFoD3kBy3QVBD4EAQWMmBEF/b/9A",
          "dtype": "f4"
         },
         "y": {
          "bdata": "yu7uQCBz0UAnl85AL0/1QApJ80AfkglBcbPUQI345EBCpupAA5QXQQp920CQGuJAyXjMQKGV00CGt+NAkFDLQHHX4UCq1+NAfrrwQM+K0UBXqs5APswBQQ/v3ECOhNFA0Af8QH1w60An/ONACnzPQGDK1UC+pgxBYpX0QGkBt0AqHftAl2DYQOmx0kCeOc9A01biQCwa/0DVm+xAXgcBQVoxzEALDdVA0/D8QBMH1EAf2f9AHB7mQGTayECvstNAb/zPQMnTz0BCA/dA4XXrQC8z8UD4/epAeV/zQGpi60COZfdAbwvbQJvdvUAr3NhA1zvoQC9bCUEtSehAjEcIQTzv+0DjK99AYaLVQHpd3EB1k/FA6A4JQWoe7kDEPgVB",
          "dtype": "f4"
         },
         "z": {
          "bdata": "5/UEQW1h8UC+Q/lAbezdQBtt3EBDm/pAR+TSQNBX9UDybvNA6msFQd2E0UAEuAVBIFf5QElu2kBZ8wBBz3DaQLpI6ECQV+xANmPSQBRb+EBioepA3hjlQFZA2UA3NexAL9/pQPmL2EDTE9dAPMj1QAsp8kCSnPZACZjsQK6N80ADveNA+2bWQHN540BftddABVsEQdkD2EDdcOdAOvDoQMeQ60AUN/FAZTvsQEs18EDWme5AOYACQYQF9EAwlv5AZ/3nQFpx1kChxOhASXQDQRyg80AiHAxBCnnUQISg20CMduFAPdDaQP+P7UC3XfZAY+YFQVmU9kD/RtpAV8LYQDGk9kC5VeZAIokCQUL+9UDoseBA6rb6QLW33kBhX+9A",
          "dtype": "f4"
         }
        },
        {
         "marker": {
          "opacity": 0.7,
          "size": 5
         },
         "mode": "markers",
         "name": "cv_generative",
         "scene": "scene3",
         "showlegend": false,
         "type": "scatter3d",
         "x": {
          "bdata": "+pq4QKmPt0AOR85AkcK4QGWSkEBc2KBA+c7SQBfhoUB7G5hAHc/KQOQKzkAcurVAP1i9QHRwmUA1AshAT2eSQMcptUCkRq9ATpi/QBOWyEBN8qtAE33KQO8/kUDhl8xAvwfIQBWcxECYLrxAVvjDQIKBz0A0sIlAQbK4QA==",
          "dtype": "f4"
         },
         "y": {
          "bdata": "gV78QKk1+0CkQRFBXgL3QLL23EDf5ftAOe4MQU8s7kA4geJA3VQLQW+Z+UDoTv9AqM/9QKQ25kCIKgFBXAXeQGNRAUHtgftAbHv4QO8I/kAEb/xAsPj8QO8a3kAgn/9Aw5f/QBvJDkF2nfpAi7EMQbOmAkGEsN1AGN/7QA==",
          "dtype": "f4"
         },
         "z": {
          "bdata": "4WsfQbaSG0G3QAhBdbcdQY6pDkFUhBZBGQsGQWHuC0EtURFBUagGQY5oGEE8zhxBWNYdQZWSC0HeCSBBPJoMQUFIGkEsPx1BD/IdQdWXHEEMlxFBnl8eQRIyDEH3KhlBWjUbQSisCEFSHh9BgjsHQU2HHUFPswdBOdMaQQ==",
          "dtype": "f4"
         }
        },
        {
         "marker": {
          "opacity": 0.7,
          "size": 5
         },
         "mode": "markers",
         "name": "cv_pattern",
         "scene": "scene3",
         "showlegend": false,
         "type": "scatter3d",
         "x": {
          "bdata": "mS8FQRs/B0Gf1wNBZZLhQNZ72UAjsARBxvgJQTTluEDOCP1AjtkLQaULyUA1lahAF4AHQW51yEBIpAZB0rH8QK0qyEAq/QVBEzLwQLMqCkHUfwNBPvwBQRPRAkEd9AdBc/X/QAS4AkEZJAZBGiUDQbDAC0HOvwRBPjH+QLGGCUFGAglBX5jmQDxb+UCEQwdBHfoCQdDdBkGRAtZAhyQKQWdK/0AjGKZAk6QIQeJ2BUE=",
          "dtype": "f4"
         },
         "y": {
          "bdata": "kf0PQeRuGUGc6BZB13QBQR1LAkG6fxlBVggVQcFn7UCYCBdBDfIQQZv6D0G2kvhALOwKQVYDBUFIVBtBxkUHQTdeDkGZ0BpBpRcLQZ7oEUFjZxZBnioTQYoHGUEZlBdBdgQaQdGrE0EJrhFBo1UVQUKdD0HqSg9B0iwSQSwLD0GxmQ9BTa4FQffRGEEfig1Bkz8YQQReFEH40gBBPxUPQZT7AUH/cuxArnsVQQK7EkE=",
          "dtype": "f4"
         },
         "z": {
          "bdata": "84X4QF1hCkEnpv9AKSAPQXsuEUHfPgFByjcHQWTMDkEFORBBCfIAQWV24EBQURRBA2D0QKUSG0Hp7glBkKv/QAy8B0GI/QtBio8HQSlbAEGp/gFBLeEDQTSdBEEaxwdB1+v+QHF7BUF8ggVBko0MQeOO+0AmFAdBBKcAQQvMAUHP0vxA5aoMQaxLAkEU1vhAK78NQaRYA0EiZA1BwiD+QO4C6kBcFg5BH2UEQfquBkE=",
          "dtype": "f4"
         }
        },
        {
         "marker": {
          "opacity": 0.7,
          "size": 5
         },
         "mode": "markers",
         "name": "audio",
         "scene": "scene3",
         "showlegend": false,
         "type": "scatter3d",
         "x": {
          "bdata": "zH+SQL+mn0BbmZlAniqNQNEej0DCbohAHxmOQMiknUCGfZFAaRWEQJUrk0DJLodASCSTQJHImECqpIxANYq2QBI+kkADtohATqOXQPSRkkARHZhA",
          "dtype": "f4"
         },
         "y": {
          "bdata": "8GwFQd2LC0HM3QlBSIkFQd0VA0FoIfRAEl4DQQBJBkFTJQVB/bvxQDe/A0Hq0PJA2RD9QNSPC0En3e9A1tELQWK4AEH7nvNAQUsMQfb9/0AF7ghB",
          "dtype": "f4"
         },
         "z": {
          "bdata": "2WwVQa/s3kB+R91ArUkUQdEMFUG+E/9APfMTQevaDkHI9xRBXdv6QBA9FEG0FAFBnpMSQR8b20DrlwVBrKAHQSosD0HnzP1A6UXaQOAjD0FM8OlA",
          "dtype": "f4"
         }
        },
        {
         "marker": {
          "opacity": 0.7,
          "size": 5
         },
         "mode": "markers",
         "name": "dl_rl",
         "scene": "scene3",
         "showlegend": false,
         "type": "scatter3d",
         "x": {
          "bdata": "UwDCQGDwtkBhOL1AfIOoQGGdvUA1b6tAg0GzQASBoEDI8Z9AGsi0QMrmrkBAIt5AzDW9QFvqvEA=",
          "dtype": "f4"
         },
         "y": {
          "bdata": "oci1QNKdpUAQ565AfHGdQJzCp0BTQKRAleKlQJc2qUCwsqlA+weuQJcetkCcSOJApaOsQFZ2qUA=",
          "dtype": "f4"
         },
         "z": {
          "bdata": "HCb/QLLZ/EBf+fpAvlP6QFlT+EDedPtAJHr4QJBeAEG8OAFBRDT0QHSZ8EDBGdNAUzX3QPVq+UA=",
          "dtype": "f4"
         }
        },
        {
         "marker": {
          "opacity": 0.7,
          "size": 5
         },
         "mode": "markers",
         "name": "dl_rnn",
         "scene": "scene4",
         "showlegend": false,
         "type": "scatter3d",
         "x": {
          "bdata": "rYSaQIU1tkAAg5tAr8itQLVIp0CkyaBAuFaWQPQzrkBJsaNAjCedQPsHt0CWrLtAmeK0QBHCmECs16NAdPnKQNZhqEBD2J9AgHmqQCAXtEAq7rFA2basQBiLn0DYV6pArj6oQIs1qkC9vL5AZzOpQDagnEA=",
          "dtype": "f4"
         },
         "y": {
          "bdata": "q8MhQfP7FEGrSyJBsiEhQYWVIUHsCR5BZC0cQWKxF0G2MyRBHhsfQcb+H0Hrpx9By8knQd3nHkHmcB1BwC4tQViYIEEKZR1BAHkeQYz+F0HvFyNBEi0aQaeEIEHn/h5BGK8iQUmmKEG+ty9BV1MjQbmdIkE=",
          "dtype": "f4"
         },
         "z": {
          "bdata": "GLb8QFv8DkFyQPFAUlgFQfn0AUHZ/f5AIILyQKu2CkHsxPpA7uIDQZa/A0HF58VApt8AQafT/EATGQJBk8PXQHPm2kCvbfdAUDnsQMovDEFg7gJB+IHbQAjiAkG+juxAe+ECQXUa7kBk8QBB1GwDQX299EA=",
          "dtype": "f4"
         }
        },
        {
         "marker": {
          "opacity": 0.7,
          "size": 5
         },
         "mode": "markers",
         "name": "dl_nlp",
         "scene": "scene4",
         "showlegend": false,
         "type": "scatter3d",
         "x": {
          "bdata": "gSLCQLYnw0BRNt1A2yepQHY5okDAHslAqGfRQHbSy0AIM9JAnhLgQBqHo0DejcZACKjXQIbY4UBo+8xAVk7QQDS6vUACEbFATHXJQHsRv0D9KsVAc77NQOSm0ECDvNBADRDEQNr4zkDmI71AC/zDQGED0kBwk8JAIg7KQMWcy0CBc9hAWpfRQPM0zEAt4sFAIbrCQGp9oEB3QtVAk5vLQPrjxUAI2tVAd0nLQI4O4kBwMMhA",
          "dtype": "f4"
         },
         "y": {
          "bdata": "neAEQW7uB0HqPAVByyUgQQ1LH0GyfhBB0uwDQfdCKkEeO/pAtLQGQVEdHkF10gVB5MQJQU6II0GMM/pAkCT6QJ8XCkEjNR1BAFcLQabJIkHCgghBi236QD8xDUGwiQhB2/0ZQW2d/EDUwh5BcToKQWfn9kANpAFB4+0RQY8sBkE4kwJBDXEXQW/iAkHZyiBBoE0EQYfhH0GWLQJB+QT/QHwaA0EcMwFBoC0OQTGhCkEYdwdB",
          "dtype": "f4"
         },
         "z": {
          "bdata": "5yG+QKNLx0Bqi8tAa8PTQC4i5kA28chAFh3AQMSzykBZiMZAj/LLQIND10C2abVACbjFQGCIuUDhpdxA6g/HQA+zw0Daz9BAazvPQGKTz0CsqcNAznDCQJGlvkA7DMxAPiW+QASKvkATub5AKPHEQHi91kBh3L5Ao5PVQDYXwkDmJsdAGH/dQE0szkBnfdFAaOnGQAti4EDHzupAxq7AQKMyzEAEXNRAkLHUQBq1ykAAqLlA",
          "dtype": "f4"
         }
        },
        {
         "marker": {
          "opacity": 0.7,
          "size": 5
         },
         "mode": "markers",
         "name": "ml_general",
         "scene": "scene4",
         "showlegend": false,
         "type": "scatter3d",
         "x": {
          "bdata": "kTb2QIRR80Dcc+lAHkDSQHDA00BWseFA9DbXQPYPxkDka/FA79TqQFbE30A7luJA1PHvQIEE2kAuR/ZAM7fvQHym20CRneZAx+u9QMKx9kBJ+elAVPfDQJur3kAFM+tAFsvdQHY0z0B9AdtA+DDwQBKn/EDF0LlAO9XeQO1mz0DywNhAe5fRQHBV4UDVWNlAB1j2QM4wvkBrwthAz43CQOPk5UDmM+lAgNO/QJA/4EDB+bxALk74QBNo8kBn/wFBnibmQPeE20BkYt1AXDz4QKc65UAqR/FAm1LAQDVlzUDFVdZAlmnYQCfk0UA28PVAFOTJQIZnrECixOtAUWm6QD7d4kD3otpAfuvOQLKj9EBKydVAEhTOQMhl0kBdFctA",
          "dtype": "f4"
         },
         "y": {
          "bdata": "ycshQah2EkGPpxJBrPojQXVYGUEfhCpBs2kSQYO0EkHSeBZBy5YnQSumDUHS/yNBDYUUQf3sDEEcrh9BMg0kQZqfF0FplBhBpVUaQbx+EUFsiQ1BKlokQfEPEEHT9gpB15AoQREYGkFTmBFB5mQWQeGQKEFUehZBimcWQY1bB0EszCJB2QYXQWJqDkEaVhBB2jEdQaxfF0EJjx1B6osbQaGTFUH4XB9BIfsYQZs8DUEaOCRB/z4jQTZ5EUEK1ilBUmMMQQUDD0EZPR5B7j0iQTB2JEGWOSBBaxwZQXMiGUEFVyVBoYYVQa8KEkGUvBZB5DkgQbnrHkF/lydBDIodQTW9IUGCtRdBZHQPQT/+F0Eu3yBBYNQ0QdQPIEGblR1B",
          "dtype": "f4"
         },
         "z": {
          "bdata": "CpH5QHjfFEG/uhZBkjIYQYRMFkFPAxNB1lggQTVT00A92xJBYMcBQQeJHEHm48lAHuwVQXnxG0EzmQ5BSzARQQfUEkGpPRVByJ8VQUNID0EN4BZB3AoLQQd9GUGINxdBTMwUQWALF0GRPhNBdFIUQcwc/0DZVQxBvOAUQRknA0H7xxJBHNUbQXTMD0Ff4B9B1h8NQVy/FEEYOhFBWgoQQfVwF0ECgxVBG4cOQbTEE0G99gdB/G/vQKAMDkEOuOtAF8AaQQUZHkEzUhJBbqkDQWYoDkEUJgBBbl0TQSYAFEHVkhBBwloZQfFV+EDHDA1BQIrOQD8D1UCl7wxBIJcMQYq4+kAceA9BsMHMQAE/DkFqvBVB8I4OQfTnGkGxLxFB",
          "dtype": "f4"
         }
        },
        {
         "marker": {
          "opacity": 0.7,
          "size": 5
         },
         "mode": "markers",
         "name": "cv_generative",
         "scene": "scene4",
         "showlegend": false,
         "type": "scatter3d",
         "x": {
          "bdata": "2SsCQaDd8kCdhNtAy20EQQBO2UDI8tZABpbfQJyl1ECmo9tAnQ/fQKtAAEERrABBWIX7QFaJ00BGGfZAitXXQAUC9kCRAfdAbikBQQi6AUFssNtAgXD+QGwr5kD1WQBBQdn5QLPT10Acq/1ATeTaQNlW+EBPVNVAHrQAQQ==",
          "dtype": "f4"
         },
         "y": {
          "bdata": "iF81QV9rMUHQyytBda02QXo0LEGFGypB7dkmQYt1MUGziCpB/2wlQY8jLUHzgTFBtXgyQQptLUHG4TVBSv8tQRLALUFGJjBBA/s0QfZqMEGvBy5BneYvQVoCL0H3wDBBWdEuQXdFIkGukzNB6SckQfN5NEF26A9BGs8yQQ==",
          "dtype": "f4"
         },
         "z": {
          "bdata": "jCjOQDn1xEBbmQJBU3rUQKHhwEAlCsVAzhf2QB5210B63M9As1vwQIrW2UCH78pAWmDTQMj/zUBPhOFAaebGQBqxy0AestVANAHPQORz2EAZGNBAU+zZQKBAxUAF5d1A00zLQEbq7kAXt9FA/zfuQBj6AEHWpcxASArNQA==",
          "dtype": "f4"
         }
        },
        {
         "marker": {
          "opacity": 0.7,
          "size": 5
         },
         "mode": "markers",
         "name": "cv_pattern",
         "scene": "scene4",
         "showlegend": false,
         "type": "scatter3d",
         "x": {
          "bdata": "nO3SQGnu4kCl4ddA3eb9QBguAEErsMlA20/XQFFZ8kBDdd9AccPcQMvcw0AXId5ApTbRQEPp9kAbcOdAJ6zxQPdq10D7oOBAY9TmQIam2kBtVNNA7MnkQKHi00DT2utAIvfLQBMiz0BGSN5AEF/aQFG+4kC/v+BAjpLYQK3azUCqg+FAqKz9QAiLxkBgn9FAfzvtQKGJ3EAdlwFBpfzfQHYFz0DcNc9ANBzbQBtJ1UA=",
          "dtype": "f4"
         },
         "y": {
          "bdata": "esU0QTjcOkFqaTRBr4ozQR2QMUETIzZBpBY5QYhqHkF3fTBBMv8yQTGxKUHmOyxBBS0vQT+ONUEDaDlBZlMzQUOfIEETDTtB+oA0QTG1L0EbyDJBF2ItQWDdMkGLjjVBQRc2QVwPOEFuyjNBYVc0QRTJMEFLPDRBkUIzQcmMNkEUDDJBLh8zQWtqNEFMuzBBsRk4Qfs6MEHs9ixBt8stQdaGJUEI0zBBcok3QdtvN0E=",
          "dtype": "f4"
         },
         "z": {
          "bdata": "xFgRQZUZDkG/vg5BOiTnQPmq6UCMagRBpeYKQeDH/kB0Z/RA0ikRQfoF+ECKK9JAe8MTQXGPAEEFYQ5BzLzpQGpq50AysghBFegCQYsWDEHTaPFAsQIDQXCTDEGyFBFBZRQGQbpjDUGUUwVBCXb4QGVkDkE2/wZBy1wJQdE5DUGvAQxBBwvtQLwvBEH4XBJBmt0JQXd/CEHa2ulAlM0OQaC2D0Gg8eBAJQUNQYEaC0E=",
          "dtype": "f4"
         }
        },
        {
         "marker": {
          "opacity": 0.7,
          "size": 5
         },
         "mode": "markers",
         "name": "audio",
         "scene": "scene4",
         "showlegend": false,
         "type": "scatter3d",
         "x": {
          "bdata": "fA7nQLUqrECuoa1A3sOZQHcP5EBSeMhAWbDfQOa840AHBeRAxGjJQJ796EDrOsxAF7DZQL16r0AYGMZAKETXQEXc1UB5usVAATetQHHtyUBQELpA",
          "dtype": "f4"
         },
         "y": {
          "bdata": "kXIeQS3BJkEdMydBhA8kQb9xHUFZ/BlBSZEdQeP7G0FAJB1BBEwTQc8HHUHlgxhB2WAZQXYMK0HdwR5BIrEZQYzSGEGbcxZBkPMpQeNtIEHPXBpB",
          "dtype": "f4"
         },
         "z": {
          "bdata": "mX2wQJx+50AEj+hA1I7uQI2osUCIB7NAnGiuQFstwkBSL7BAw0u2QE/WrkACj7FAlo2zQPnz7UA8tbdAk5bZQAhdskD1urpAEgvtQEtguUC/1s1A",
          "dtype": "f4"
         }
        },
        {
         "marker": {
          "opacity": 0.7,
          "size": 5
         },
         "mode": "markers",
         "name": "dl_rl",
         "scene": "scene4",
         "showlegend": false,
         "type": "scatter3d",
         "x": {
          "bdata": "lR7bQM4000BzVclA5I7QQF4s4EBws8lAnpveQMpM0EClBNJAL/LTQNNC1kC9tc1AHSrYQOUK1kA=",
          "dtype": "f4"
         },
         "y": {
          "bdata": "/zEMQQkrB0FTnS9BvST2QC7PBkFJ3ABBJooHQUJq90DbN/pARKAIQWUACUGYBQ1BbEQIQf/CBkE=",
          "dtype": "f4"
         },
         "z": {
          "bdata": "Cen7QJhz/ED8gwNBYvLcQJe2B0HlvdZAaksFQetL3kABZddAEhwBQWZeAUFSaw5BPBYIQT5TAEE=",
          "dtype": "f4"
         }
        }
       ],
       "layout": {
        "annotations": [
         {
          "font": {
           "size": 16
          },
          "showarrow": false,
          "text": "BERT",
          "x": 0.2375,
          "xanchor": "center",
          "xref": "paper",
          "y": 1,
          "yanchor": "bottom",
          "yref": "paper"
         },
         {
          "font": {
           "size": 16
          },
          "showarrow": false,
          "text": "BGE",
          "x": 0.7625,
          "xanchor": "center",
          "xref": "paper",
          "y": 1,
          "yanchor": "bottom",
          "yref": "paper"
         },
         {
          "font": {
           "size": 16
          },
          "showarrow": false,
          "text": "OpenAI",
          "x": 0.2375,
          "xanchor": "center",
          "xref": "paper",
          "y": 0.475,
          "yanchor": "bottom",
          "yref": "paper"
         },
         {
          "font": {
           "size": 16
          },
          "showarrow": false,
          "text": "E5",
          "x": 0.7625,
          "xanchor": "center",
          "xref": "paper",
          "y": 0.475,
          "yanchor": "bottom",
          "yref": "paper"
         }
        ],
        "height": 1200,
        "legend": {
         "title": {
          "text": "Categories"
         },
         "x": 0.99,
         "xanchor": "right",
         "y": 0.99,
         "yanchor": "top"
        },
        "scene": {
         "domain": {
          "x": [
           0,
           0.475
          ],
          "y": [
           0.525,
           1
          ]
         },
         "xaxis": {
          "backgroundcolor": "rgb(245, 245, 255)",
          "gridcolor": "white",
          "title": {
           "text": "Dimension 1"
          }
         },
         "yaxis": {
          "backgroundcolor": "rgb(245, 245, 255)",
          "gridcolor": "white",
          "title": {
           "text": "Dimension 2"
          }
         },
         "zaxis": {
          "backgroundcolor": "rgb(245, 245, 255)",
          "gridcolor": "white",
          "title": {
           "text": "Dimension 3"
          }
         }
        },
        "scene2": {
         "domain": {
          "x": [
           0.525,
           1
          ],
          "y": [
           0.525,
           1
          ]
         },
         "xaxis": {
          "backgroundcolor": "rgb(245, 245, 255)",
          "gridcolor": "white",
          "title": {
           "text": "Dimension 1"
          }
         },
         "yaxis": {
          "backgroundcolor": "rgb(245, 245, 255)",
          "gridcolor": "white",
          "title": {
           "text": "Dimension 2"
          }
         },
         "zaxis": {
          "backgroundcolor": "rgb(245, 245, 255)",
          "gridcolor": "white",
          "title": {
           "text": "Dimension 3"
          }
         }
        },
        "scene3": {
         "domain": {
          "x": [
           0,
           0.475
          ],
          "y": [
           0,
           0.475
          ]
         },
         "xaxis": {
          "backgroundcolor": "rgb(245, 245, 255)",
          "gridcolor": "white",
          "title": {
           "text": "Dimension 1"
          }
         },
         "yaxis": {
          "backgroundcolor": "rgb(245, 245, 255)",
          "gridcolor": "white",
          "title": {
           "text": "Dimension 2"
          }
         },
         "zaxis": {
          "backgroundcolor": "rgb(245, 245, 255)",
          "gridcolor": "white",
          "title": {
           "text": "Dimension 3"
          }
         }
        },
        "scene4": {
         "domain": {
          "x": [
           0.525,
           1
          ],
          "y": [
           0,
           0.475
          ]
         },
         "xaxis": {
          "backgroundcolor": "rgb(245, 245, 255)",
          "gridcolor": "white",
          "title": {
           "text": "Dimension 1"
          }
         },
         "yaxis": {
          "backgroundcolor": "rgb(245, 245, 255)",
          "gridcolor": "white",
          "title": {
           "text": "Dimension 2"
          }
         },
         "zaxis": {
          "backgroundcolor": "rgb(245, 245, 255)",
          "gridcolor": "white",
          "title": {
           "text": "Dimension 3"
          }
         }
        },
        "showlegend": true,
        "template": {
         "data": {
          "bar": [
           {
            "error_x": {
             "color": "#2a3f5f"
            },
            "error_y": {
             "color": "#2a3f5f"
            },
            "marker": {
             "line": {
              "color": "#E5ECF6",
              "width": 0.5
             },
             "pattern": {
              "fillmode": "overlay",
              "size": 10,
              "solidity": 0.2
             }
            },
            "type": "bar"
           }
          ],
          "barpolar": [
           {
            "marker": {
             "line": {
              "color": "#E5ECF6",
              "width": 0.5
             },
             "pattern": {
              "fillmode": "overlay",
              "size": 10,
              "solidity": 0.2
             }
            },
            "type": "barpolar"
           }
          ],
          "carpet": [
           {
            "aaxis": {
             "endlinecolor": "#2a3f5f",
             "gridcolor": "white",
             "linecolor": "white",
             "minorgridcolor": "white",
             "startlinecolor": "#2a3f5f"
            },
            "baxis": {
             "endlinecolor": "#2a3f5f",
             "gridcolor": "white",
             "linecolor": "white",
             "minorgridcolor": "white",
             "startlinecolor": "#2a3f5f"
            },
            "type": "carpet"
           }
          ],
          "choropleth": [
           {
            "colorbar": {
             "outlinewidth": 0,
             "ticks": ""
            },
            "type": "choropleth"
           }
          ],
          "contour": [
           {
            "colorbar": {
             "outlinewidth": 0,
             "ticks": ""
            },
            "colorscale": [
             [
              0,
              "#0d0887"
             ],
             [
              0.1111111111111111,
              "#46039f"
             ],
             [
              0.2222222222222222,
              "#7201a8"
             ],
             [
              0.3333333333333333,
              "#9c179e"
             ],
             [
              0.4444444444444444,
              "#bd3786"
             ],
             [
              0.5555555555555556,
              "#d8576b"
             ],
             [
              0.6666666666666666,
              "#ed7953"
             ],
             [
              0.7777777777777778,
              "#fb9f3a"
             ],
             [
              0.8888888888888888,
              "#fdca26"
             ],
             [
              1,
              "#f0f921"
             ]
            ],
            "type": "contour"
           }
          ],
          "contourcarpet": [
           {
            "colorbar": {
             "outlinewidth": 0,
             "ticks": ""
            },
            "type": "contourcarpet"
           }
          ],
          "heatmap": [
           {
            "colorbar": {
             "outlinewidth": 0,
             "ticks": ""
            },
            "colorscale": [
             [
              0,
              "#0d0887"
             ],
             [
              0.1111111111111111,
              "#46039f"
             ],
             [
              0.2222222222222222,
              "#7201a8"
             ],
             [
              0.3333333333333333,
              "#9c179e"
             ],
             [
              0.4444444444444444,
              "#bd3786"
             ],
             [
              0.5555555555555556,
              "#d8576b"
             ],
             [
              0.6666666666666666,
              "#ed7953"
             ],
             [
              0.7777777777777778,
              "#fb9f3a"
             ],
             [
              0.8888888888888888,
              "#fdca26"
             ],
             [
              1,
              "#f0f921"
             ]
            ],
            "type": "heatmap"
           }
          ],
          "histogram": [
           {
            "marker": {
             "pattern": {
              "fillmode": "overlay",
              "size": 10,
              "solidity": 0.2
             }
            },
            "type": "histogram"
           }
          ],
          "histogram2d": [
           {
            "colorbar": {
             "outlinewidth": 0,
             "ticks": ""
            },
            "colorscale": [
             [
              0,
              "#0d0887"
             ],
             [
              0.1111111111111111,
              "#46039f"
             ],
             [
              0.2222222222222222,
              "#7201a8"
             ],
             [
              0.3333333333333333,
              "#9c179e"
             ],
             [
              0.4444444444444444,
              "#bd3786"
             ],
             [
              0.5555555555555556,
              "#d8576b"
             ],
             [
              0.6666666666666666,
              "#ed7953"
             ],
             [
              0.7777777777777778,
              "#fb9f3a"
             ],
             [
              0.8888888888888888,
              "#fdca26"
             ],
             [
              1,
              "#f0f921"
             ]
            ],
            "type": "histogram2d"
           }
          ],
          "histogram2dcontour": [
           {
            "colorbar": {
             "outlinewidth": 0,
             "ticks": ""
            },
            "colorscale": [
             [
              0,
              "#0d0887"
             ],
             [
              0.1111111111111111,
              "#46039f"
             ],
             [
              0.2222222222222222,
              "#7201a8"
             ],
             [
              0.3333333333333333,
              "#9c179e"
             ],
             [
              0.4444444444444444,
              "#bd3786"
             ],
             [
              0.5555555555555556,
              "#d8576b"
             ],
             [
              0.6666666666666666,
              "#ed7953"
             ],
             [
              0.7777777777777778,
              "#fb9f3a"
             ],
             [
              0.8888888888888888,
              "#fdca26"
             ],
             [
              1,
              "#f0f921"
             ]
            ],
            "type": "histogram2dcontour"
           }
          ],
          "mesh3d": [
           {
            "colorbar": {
             "outlinewidth": 0,
             "ticks": ""
            },
            "type": "mesh3d"
           }
          ],
          "parcoords": [
           {
            "line": {
             "colorbar": {
              "outlinewidth": 0,
              "ticks": ""
             }
            },
            "type": "parcoords"
           }
          ],
          "pie": [
           {
            "automargin": true,
            "type": "pie"
           }
          ],
          "scatter": [
           {
            "fillpattern": {
             "fillmode": "overlay",
             "size": 10,
             "solidity": 0.2
            },
            "type": "scatter"
           }
          ],
          "scatter3d": [
           {
            "line": {
             "colorbar": {
              "outlinewidth": 0,
              "ticks": ""
             }
            },
            "marker": {
             "colorbar": {
              "outlinewidth": 0,
              "ticks": ""
             }
            },
            "type": "scatter3d"
           }
          ],
          "scattercarpet": [
           {
            "marker": {
             "colorbar": {
              "outlinewidth": 0,
              "ticks": ""
             }
            },
            "type": "scattercarpet"
           }
          ],
          "scattergeo": [
           {
            "marker": {
             "colorbar": {
              "outlinewidth": 0,
              "ticks": ""
             }
            },
            "type": "scattergeo"
           }
          ],
          "scattergl": [
           {
            "marker": {
             "colorbar": {
              "outlinewidth": 0,
              "ticks": ""
             }
            },
            "type": "scattergl"
           }
          ],
          "scattermap": [
           {
            "marker": {
             "colorbar": {
              "outlinewidth": 0,
              "ticks": ""
             }
            },
            "type": "scattermap"
           }
          ],
          "scattermapbox": [
           {
            "marker": {
             "colorbar": {
              "outlinewidth": 0,
              "ticks": ""
             }
            },
            "type": "scattermapbox"
           }
          ],
          "scatterpolar": [
           {
            "marker": {
             "colorbar": {
              "outlinewidth": 0,
              "ticks": ""
             }
            },
            "type": "scatterpolar"
           }
          ],
          "scatterpolargl": [
           {
            "marker": {
             "colorbar": {
              "outlinewidth": 0,
              "ticks": ""
             }
            },
            "type": "scatterpolargl"
           }
          ],
          "scatterternary": [
           {
            "marker": {
             "colorbar": {
              "outlinewidth": 0,
              "ticks": ""
             }
            },
            "type": "scatterternary"
           }
          ],
          "surface": [
           {
            "colorbar": {
             "outlinewidth": 0,
             "ticks": ""
            },
            "colorscale": [
             [
              0,
              "#0d0887"
             ],
             [
              0.1111111111111111,
              "#46039f"
             ],
             [
              0.2222222222222222,
              "#7201a8"
             ],
             [
              0.3333333333333333,
              "#9c179e"
             ],
             [
              0.4444444444444444,
              "#bd3786"
             ],
             [
              0.5555555555555556,
              "#d8576b"
             ],
             [
              0.6666666666666666,
              "#ed7953"
             ],
             [
              0.7777777777777778,
              "#fb9f3a"
             ],
             [
              0.8888888888888888,
              "#fdca26"
             ],
             [
              1,
              "#f0f921"
             ]
            ],
            "type": "surface"
           }
          ],
          "table": [
           {
            "cells": {
             "fill": {
              "color": "#EBF0F8"
             },
             "line": {
              "color": "white"
             }
            },
            "header": {
             "fill": {
              "color": "#C8D4E3"
             },
             "line": {
              "color": "white"
             }
            },
            "type": "table"
           }
          ]
         },
         "layout": {
          "annotationdefaults": {
           "arrowcolor": "#2a3f5f",
           "arrowhead": 0,
           "arrowwidth": 1
          },
          "autotypenumbers": "strict",
          "coloraxis": {
           "colorbar": {
            "outlinewidth": 0,
            "ticks": ""
           }
          },
          "colorscale": {
           "diverging": [
            [
             0,
             "#8e0152"
            ],
            [
             0.1,
             "#c51b7d"
            ],
            [
             0.2,
             "#de77ae"
            ],
            [
             0.3,
             "#f1b6da"
            ],
            [
             0.4,
             "#fde0ef"
            ],
            [
             0.5,
             "#f7f7f7"
            ],
            [
             0.6,
             "#e6f5d0"
            ],
            [
             0.7,
             "#b8e186"
            ],
            [
             0.8,
             "#7fbc41"
            ],
            [
             0.9,
             "#4d9221"
            ],
            [
             1,
             "#276419"
            ]
           ],
           "sequential": [
            [
             0,
             "#0d0887"
            ],
            [
             0.1111111111111111,
             "#46039f"
            ],
            [
             0.2222222222222222,
             "#7201a8"
            ],
            [
             0.3333333333333333,
             "#9c179e"
            ],
            [
             0.4444444444444444,
             "#bd3786"
            ],
            [
             0.5555555555555556,
             "#d8576b"
            ],
            [
             0.6666666666666666,
             "#ed7953"
            ],
            [
             0.7777777777777778,
             "#fb9f3a"
            ],
            [
             0.8888888888888888,
             "#fdca26"
            ],
            [
             1,
             "#f0f921"
            ]
           ],
           "sequentialminus": [
            [
             0,
             "#0d0887"
            ],
            [
             0.1111111111111111,
             "#46039f"
            ],
            [
             0.2222222222222222,
             "#7201a8"
            ],
            [
             0.3333333333333333,
             "#9c179e"
            ],
            [
             0.4444444444444444,
             "#bd3786"
            ],
            [
             0.5555555555555556,
             "#d8576b"
            ],
            [
             0.6666666666666666,
             "#ed7953"
            ],
            [
             0.7777777777777778,
             "#fb9f3a"
            ],
            [
             0.8888888888888888,
             "#fdca26"
            ],
            [
             1,
             "#f0f921"
            ]
           ]
          },
          "colorway": [
           "#636efa",
           "#EF553B",
           "#00cc96",
           "#ab63fa",
           "#FFA15A",
           "#19d3f3",
           "#FF6692",
           "#B6E880",
           "#FF97FF",
           "#FECB52"
          ],
          "font": {
           "color": "#2a3f5f"
          },
          "geo": {
           "bgcolor": "white",
           "lakecolor": "white",
           "landcolor": "#E5ECF6",
           "showlakes": true,
           "showland": true,
           "subunitcolor": "white"
          },
          "hoverlabel": {
           "align": "left"
          },
          "hovermode": "closest",
          "mapbox": {
           "style": "light"
          },
          "paper_bgcolor": "white",
          "plot_bgcolor": "#E5ECF6",
          "polar": {
           "angularaxis": {
            "gridcolor": "white",
            "linecolor": "white",
            "ticks": ""
           },
           "bgcolor": "#E5ECF6",
           "radialaxis": {
            "gridcolor": "white",
            "linecolor": "white",
            "ticks": ""
           }
          },
          "scene": {
           "xaxis": {
            "backgroundcolor": "#E5ECF6",
            "gridcolor": "white",
            "gridwidth": 2,
            "linecolor": "white",
            "showbackground": true,
            "ticks": "",
            "zerolinecolor": "white"
           },
           "yaxis": {
            "backgroundcolor": "#E5ECF6",
            "gridcolor": "white",
            "gridwidth": 2,
            "linecolor": "white",
            "showbackground": true,
            "ticks": "",
            "zerolinecolor": "white"
           },
           "zaxis": {
            "backgroundcolor": "#E5ECF6",
            "gridcolor": "white",
            "gridwidth": 2,
            "linecolor": "white",
            "showbackground": true,
            "ticks": "",
            "zerolinecolor": "white"
           }
          },
          "shapedefaults": {
           "line": {
            "color": "#2a3f5f"
           }
          },
          "ternary": {
           "aaxis": {
            "gridcolor": "white",
            "linecolor": "white",
            "ticks": ""
           },
           "baxis": {
            "gridcolor": "white",
            "linecolor": "white",
            "ticks": ""
           },
           "bgcolor": "#E5ECF6",
           "caxis": {
            "gridcolor": "white",
            "linecolor": "white",
            "ticks": ""
           }
          },
          "title": {
           "x": 0.05
          },
          "xaxis": {
           "automargin": true,
           "gridcolor": "white",
           "linecolor": "white",
           "ticks": "",
           "title": {
            "standoff": 15
           },
           "zerolinecolor": "white",
           "zerolinewidth": 2
          },
          "yaxis": {
           "automargin": true,
           "gridcolor": "white",
           "linecolor": "white",
           "ticks": "",
           "title": {
            "standoff": 15
           },
           "zerolinecolor": "white",
           "zerolinewidth": 2
          }
         }
        },
        "title": {
         "text": "Comparison of Different Embedding Models",
         "x": 0.5,
         "y": 0.95
        },
        "width": 1400
       }
      }
     },
     "metadata": {},
     "output_type": "display_data"
    },
    {
     "name": "stdout",
     "output_type": "stream",
     "text": [
      "\n",
      "Model Evaluation Metrics:\n",
      "--------------------------------------------------\n",
      "\n",
      "BERT:\n",
      "Computation time: 4.18 seconds\n",
      "Silhouette score: 0.0337\n",
      "\n",
      "BGE:\n",
      "Computation time: 5.95 seconds\n",
      "Silhouette score: 0.0603\n",
      "\n",
      "OpenAI:\n",
      "Computation time: 81.79 seconds\n",
      "Silhouette score: 0.0445\n",
      "\n",
      "E5:\n",
      "Computation time: 5.84 seconds\n",
      "Silhouette score: 0.0298\n"
     ]
    }
   ],
   "source": [
    "import plotly.express as px\n",
    "import plotly.graph_objects as go\n",
    "from plotly.subplots import make_subplots\n",
    "\n",
    "def visualize_all_embeddings(results_dict, categories, title=\"Comparison of Different Embedding Models\"):\n",
    "    \"\"\"\n",
    "    Create interactive 3D visualizations for multiple embedding models\n",
    "    \n",
    "    Parameters:\n",
    "    -----------\n",
    "    results_dict : dict\n",
    "        Dictionary containing results from different models\n",
    "    categories : array-like\n",
    "        Category labels for the data points\n",
    "    title : str\n",
    "        Main title for the visualization\n",
    "    \"\"\"\n",
    "    # Create 2x2 subplots\n",
    "    fig = make_subplots(\n",
    "        rows=2, cols=2,\n",
    "        specs=[[{'type': 'scene'}, {'type': 'scene'}],\n",
    "               [{'type': 'scene'}, {'type': 'scene'}]],\n",
    "        subplot_titles=list(results_dict.keys()),\n",
    "        horizontal_spacing=0.05,\n",
    "        vertical_spacing=0.05\n",
    "    )\n",
    "    \n",
    "    # Define plot positions\n",
    "    positions = [(1,1), (1,2), (2,1), (2,2)]\n",
    "    \n",
    "    # Reduce dimensions to 3D for each model\n",
    "    reducer = umap.UMAP(n_components=3, random_state=42)\n",
    "    \n",
    "    # Add traces for each model\n",
    "    for (model_name, model_results), pos in zip(results_dict.items(), positions):\n",
    "        # Reduce to 3D\n",
    "        embeddings_3d = reducer.fit_transform(model_results['embeddings'])\n",
    "        \n",
    "        # Create DataFrame for the current model\n",
    "        df = pd.DataFrame({\n",
    "            'Dimension 1': embeddings_3d[:, 0],\n",
    "            'Dimension 2': embeddings_3d[:, 1],\n",
    "            'Dimension 3': embeddings_3d[:, 2],\n",
    "            'Category': categories\n",
    "        })\n",
    "        \n",
    "        # Add scatter plot for each category\n",
    "        for category in df['Category'].unique():\n",
    "            mask = df['Category'] == category\n",
    "            fig.add_trace(\n",
    "                go.Scatter3d(\n",
    "                    x=df[mask]['Dimension 1'],\n",
    "                    y=df[mask]['Dimension 2'],\n",
    "                    z=df[mask]['Dimension 3'],\n",
    "                    mode='markers',\n",
    "                    name=category,\n",
    "                    showlegend=pos==(1,1),  # Only show legend for first plot\n",
    "                    marker=dict(\n",
    "                        size=5,\n",
    "                        opacity=0.7\n",
    "                    ),\n",
    "                ),\n",
    "                row=pos[0], col=pos[1]\n",
    "            )\n",
    "    \n",
    "    # Update layout\n",
    "    fig.update_layout(\n",
    "        title=dict(\n",
    "            text=title,\n",
    "            x=0.5,\n",
    "            y=0.95\n",
    "        ),\n",
    "        width=1400,\n",
    "        height=1200,\n",
    "        showlegend=True,\n",
    "        legend=dict(\n",
    "            title=\"Categories\",\n",
    "            yanchor=\"top\",\n",
    "            y=0.99,\n",
    "            xanchor=\"right\",\n",
    "            x=0.99\n",
    "        )\n",
    "    )\n",
    "    \n",
    "    # Update scene properties for all subplots\n",
    "    for i in range(1, 3):\n",
    "        for j in range(1, 3):\n",
    "            fig.update_scenes(\n",
    "                dict(\n",
    "                    xaxis=dict(backgroundcolor=\"rgb(245, 245, 255)\", gridcolor=\"white\", title=\"Dimension 1\"),\n",
    "                    yaxis=dict(backgroundcolor=\"rgb(245, 245, 255)\", gridcolor=\"white\", title=\"Dimension 2\"),\n",
    "                    zaxis=dict(backgroundcolor=\"rgb(245, 245, 255)\", gridcolor=\"white\", title=\"Dimension 3\"),\n",
    "                ),\n",
    "                row=i, col=j\n",
    "            )\n",
    "\n",
    "    return fig\n",
    "\n",
    "# Create visualization using existing results\n",
    "fig = visualize_all_embeddings(\n",
    "    results,  # Using the existing results dictionary\n",
    "    categories=train_df['category'],\n",
    "    title=\"Comparison of Different Embedding Models\"\n",
    ")\n",
    "\n",
    "# Show the plot\n",
    "fig.show()\n",
    "\n",
    "# Print evaluation metrics for each model\n",
    "print(\"\\nModel Evaluation Metrics:\")\n",
    "print(\"-\" * 50)\n",
    "for model_name, model_results in results.items():\n",
    "    print(f\"\\n{model_name}:\")\n",
    "    print(f\"Computation time: {model_results['computation_time']:.2f} seconds\")\n",
    "    print(f\"Silhouette score: {model_results['silhouette_score']:.4f}\")"
   ]
  }
 ],
 "metadata": {
  "kernelspec": {
   "display_name": "diff",
   "language": "python",
   "name": "python3"
  },
  "language_info": {
   "codemirror_mode": {
    "name": "ipython",
    "version": 3
   },
   "file_extension": ".py",
   "mimetype": "text/x-python",
   "name": "python",
   "nbconvert_exporter": "python",
   "pygments_lexer": "ipython3",
   "version": "3.8.16"
  }
 },
 "nbformat": 4,
 "nbformat_minor": 2
}
